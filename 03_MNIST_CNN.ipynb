{
 "cells": [
  {
   "cell_type": "code",
   "execution_count": 77,
   "metadata": {},
   "outputs": [],
   "source": [
    "import torch\n",
    "import torch.nn as nn\n",
    "import torch.nn.functional as F\n",
    "from torch.utils.data import DataLoader, TensorDataset\n",
    "from torchvision import datasets, transforms\n",
    "from torchvision import utils\n",
    "from torchvision.utils import make_grid\n",
    "from torchsummary import summary\n",
    "\n",
    "\n",
    "import os\n",
    "import numpy as np\n",
    "import pandas as pd\n",
    "from sklearn.metrics import confusion_matrix\n",
    "import warnings\n",
    "import matplotlib.pyplot as plt\n",
    "import time\n",
    "from sklearn.metrics import accuracy_score\n",
    "import random\n",
    "%matplotlib inline"
   ]
  },
  {
   "cell_type": "markdown",
   "metadata": {},
   "source": [
    "### Check CUDA"
   ]
  },
  {
   "cell_type": "code",
   "execution_count": 2,
   "metadata": {},
   "outputs": [
    {
     "name": "stdout",
     "output_type": "stream",
     "text": [
      "DEVICE :  cuda\n"
     ]
    }
   ],
   "source": [
    "USE_CUDA =  torch.cuda.is_available()\n",
    "    \n",
    "device = torch.device(\"cuda\" if USE_CUDA else \"cpu\")\n",
    "print('DEVICE : ',device)"
   ]
  },
  {
   "cell_type": "markdown",
   "metadata": {},
   "source": [
    "### 1. Set hyper-parameters"
   ]
  },
  {
   "cell_type": "code",
   "execution_count": 3,
   "metadata": {},
   "outputs": [],
   "source": [
    "lr = 1e-4\n",
    "epochs = 20\n",
    "batch_size = 32"
   ]
  },
  {
   "cell_type": "markdown",
   "metadata": {},
   "source": [
    "### 2. Load dataset and Initialize transform"
   ]
  },
  {
   "cell_type": "code",
   "execution_count": 4,
   "metadata": {},
   "outputs": [],
   "source": [
    "transform = transforms.ToTensor()\n",
    "\n",
    "root_dir = '../data/'\n",
    "if not os.path.isdir(root_dir):\n",
    "    os.makedirs(root_dir)\n",
    "    \n",
    "train_data = datasets.MNIST(root=root_dir, train=True, transform = transform, download=True)\n",
    "test_data = datasets.MNIST(root=root_dir, train=False, transform = transform, download=True)"
   ]
  },
  {
   "cell_type": "code",
   "execution_count": 5,
   "metadata": {},
   "outputs": [
    {
     "name": "stdout",
     "output_type": "stream",
     "text": [
      "Dataset MNIST\n",
      "    Number of datapoints: 60000\n",
      "    Root location: ../data/\n",
      "    Split: Train\n",
      "    StandardTransform\n",
      "Transform: ToTensor()\n",
      "Dataset MNIST\n",
      "    Number of datapoints: 10000\n",
      "    Root location: ../data/\n",
      "    Split: Test\n",
      "    StandardTransform\n",
      "Transform: ToTensor()\n"
     ]
    }
   ],
   "source": [
    "print(train_data)\n",
    "print(test_data)"
   ]
  },
  {
   "cell_type": "code",
   "execution_count": 6,
   "metadata": {},
   "outputs": [],
   "source": [
    "# extract the input data and target labels\n",
    "X_train, y_train = train_data.data, train_data.targets\n",
    "\n",
    "# extract the data and targets\n",
    "X_val, y_val = test_data.data, test_data.targets"
   ]
  },
  {
   "cell_type": "code",
   "execution_count": 7,
   "metadata": {},
   "outputs": [],
   "source": [
    "if len(X_train.shape) == 3:\n",
    "    X_train = X_train.unsqueeze(1) # add one dimension at 1 index\n",
    "\n",
    "if len(X_val.shape) == 3:\n",
    "    X_val = X_val.unsqueeze(1)"
   ]
  },
  {
   "cell_type": "code",
   "execution_count": 8,
   "metadata": {},
   "outputs": [],
   "source": [
    "def show(img):\n",
    "    # convert tensor to numpy array\n",
    "    npimg = img.numpy()\n",
    "    # convert to H*W*C shape from C*H*W\n",
    "    npimg_tr = npimg.transpose((1,2,0))\n",
    "    plt.imshow(npimg_tr, interpolation='nearest')\n"
   ]
  },
  {
   "cell_type": "code",
   "execution_count": 9,
   "metadata": {},
   "outputs": [
    {
     "data": {
      "image/png": "[encoded data removed]",
      "text/plain": [
       "<Figure size 432x288 with 1 Axes>"
      ]
     },
     "metadata": {
      "needs_background": "light"
     },
     "output_type": "display_data"
    }
   ],
   "source": [
    "# create a grid of images and display them\n",
    "# make a grid of 40 images, 8 images per row\n",
    "X_grid = utils.make_grid(X_train[:24], nrow=8, padding=2) # padding means edge pixel\n",
    "\n",
    "# call helper function\n",
    "show(X_grid)"
   ]
  },
  {
   "cell_type": "code",
   "execution_count": 10,
   "metadata": {},
   "outputs": [
    {
     "data": {
      "text/plain": [
       "Text(0.5, 1.0, 'transpose')"
      ]
     },
     "execution_count": 10,
     "metadata": {},
     "output_type": "execute_result"
    },
    {
     "data": {
      "image/png": "[encoded data removed]",
      "text/plain": [
       "<Figure size 432x288 with 1 Axes>"
      ]
     },
     "metadata": {
      "needs_background": "light"
     },
     "output_type": "display_data"
    }
   ],
   "source": [
    "img = train_data[0][0]\n",
    "img_np = img.numpy().squeeze(0)\n",
    "\n",
    "plt.imshow(img_np,cmap='gray')\n",
    "plt.title('transpose')"
   ]
  },
  {
   "cell_type": "markdown",
   "metadata": {},
   "source": [
    "### 3. Import MNIST dataset"
   ]
  },
  {
   "cell_type": "code",
   "execution_count": 11,
   "metadata": {},
   "outputs": [],
   "source": [
    "# wrap tensors into a dataset\n",
    "train_ds = TensorDataset(X_train, y_train)\n",
    "val_ds = TensorDataset(X_val, y_val)"
   ]
  },
  {
   "cell_type": "code",
   "execution_count": 12,
   "metadata": {},
   "outputs": [],
   "source": [
    "train_loader = DataLoader(dataset = train_ds,\n",
    "                        batch_size = 8,\n",
    "                        shuffle=True)\n",
    "\n",
    "val_loader = DataLoader(dataset = val_ds,\n",
    "                        batch_size = 8,\n",
    "                        shuffle=True)"
   ]
  },
  {
   "cell_type": "markdown",
   "metadata": {},
   "source": [
    "### 4. Model Initialize"
   ]
  },
  {
   "cell_type": "code",
   "execution_count": 13,
   "metadata": {},
   "outputs": [],
   "source": [
    "class CNN(nn.Module):\n",
    "    def __init__(self):\n",
    "        super().__init__()\n",
    "        \n",
    "        # (1, 28, 28) --> (32, 26, 26)\n",
    "        self.conv1 = nn.Conv2d(1,32,3,1)\n",
    "        # Pooling : (32,26,26) --> (32,13,13)\n",
    "        # (32, 13, 13) --> (64, 11, 11)\n",
    "        self.conv2 = nn.Conv2d(32,64,3,1)\n",
    "        # Pooling : (64, 11, 11) --> (64, 5, 5)\n",
    "        # Flatten : FC layers\n",
    "        self.fc1 = nn.Linear(5*5*64, 256)\n",
    "        self.fc2 = nn.Linear(256, 64)\n",
    "        # Class 10 (0 to 9)\n",
    "        self.fc3 = nn.Linear(64, 10)\n",
    "        \n",
    "    def forward(self, X):\n",
    "        # Activation 1 : ReLU\n",
    "        X = F.relu(self.conv1(X))\n",
    "        # Max-pooling\n",
    "        X = F.max_pool2d(X,2,2)\n",
    "        # Activation 2 : ReLU\n",
    "        X = F.relu(self.conv2(X))\n",
    "        # Max-pooling\n",
    "        X = F.max_pool2d(X,2,2)\n",
    "        \n",
    "        # Change shape : (16, 5, 5) --> (?, 16*5*5)\n",
    "        X = X.view(-1, 5*5*64)\n",
    "        \n",
    "        X = F.relu(self.fc1(X))\n",
    "        X = F.relu(self.fc2(X))\n",
    "        X = self.fc3(X)\n",
    "        \n",
    "        return F.log_softmax(X,dim=1)\n",
    "        \n",
    "        \n",
    "    "
   ]
  },
  {
   "cell_type": "code",
   "execution_count": 14,
   "metadata": {},
   "outputs": [
    {
     "data": {
      "text/plain": [
       "CNN(\n",
       "  (conv1): Conv2d(1, 32, kernel_size=(3, 3), stride=(1, 1))\n",
       "  (conv2): Conv2d(32, 64, kernel_size=(3, 3), stride=(1, 1))\n",
       "  (fc1): Linear(in_features=1600, out_features=256, bias=True)\n",
       "  (fc2): Linear(in_features=256, out_features=64, bias=True)\n",
       "  (fc3): Linear(in_features=64, out_features=10, bias=True)\n",
       ")"
      ]
     },
     "execution_count": 14,
     "metadata": {},
     "output_type": "execute_result"
    }
   ],
   "source": [
    "model = CNN()\n",
    "model.to(device)"
   ]
  },
  {
   "cell_type": "code",
   "execution_count": 15,
   "metadata": {},
   "outputs": [
    {
     "name": "stdout",
     "output_type": "stream",
     "text": [
      "----------------------------------------------------------------\n",
      "        Layer (type)               Output Shape         Param #\n",
      "================================================================\n",
      "            Conv2d-1           [-1, 32, 26, 26]             320\n",
      "            Conv2d-2           [-1, 64, 11, 11]          18,496\n",
      "            Linear-3                  [-1, 256]         409,856\n",
      "            Linear-4                   [-1, 64]          16,448\n",
      "            Linear-5                   [-1, 10]             650\n",
      "================================================================\n",
      "Total params: 445,770\n",
      "Trainable params: 445,770\n",
      "Non-trainable params: 0\n",
      "----------------------------------------------------------------\n",
      "Input size (MB): 0.00\n",
      "Forward/backward pass size (MB): 0.23\n",
      "Params size (MB): 1.70\n",
      "Estimated Total Size (MB): 1.93\n",
      "----------------------------------------------------------------\n"
     ]
    }
   ],
   "source": [
    "summary(model, input_size= (1,28,28))"
   ]
  },
  {
   "cell_type": "code",
   "execution_count": 16,
   "metadata": {},
   "outputs": [],
   "source": [
    "criterion = nn.CrossEntropyLoss()\n",
    "optimizer = torch.optim.Adam(model.parameters(),lr=lr)"
   ]
  },
  {
   "cell_type": "markdown",
   "metadata": {},
   "source": [
    "### 5.Training starts"
   ]
  },
  {
   "cell_type": "code",
   "execution_count": 17,
   "metadata": {},
   "outputs": [],
   "source": [
    "def metrics_batch(target, output):\n",
    "    # obtain output class\n",
    "    pred = output.argmax(dim=1, keepdim=True)\n",
    "    # compare output class with target class\n",
    "    corrects = pred.eq(target.view_as(pred)).sum().item()\n",
    "    \n",
    "    return corrects"
   ]
  },
  {
   "cell_type": "code",
   "execution_count": 18,
   "metadata": {},
   "outputs": [],
   "source": [
    "def loss_batch(loss_func, X_b, y_b, yb_p, opt=None):\n",
    "    # obtain loss\n",
    "    loss = loss_func(yb_p, y_b)\n",
    "    # obtain performance metric\n",
    "    metric_b = metrics_batch(y_b, yb_p)\n",
    "    \n",
    "    if opt is not None:\n",
    "        loss.backward() # Compute gradient\n",
    "        opt.step() # Update parameters\n",
    "        opt.zero_grad() # Set gradients to zero\n",
    "        \n",
    "    return loss.item(), metric_b\n"
   ]
  },
  {
   "cell_type": "code",
   "execution_count": 19,
   "metadata": {},
   "outputs": [],
   "source": [
    "def loss_epoch(model, loss_func, dataset_dl, opt=None):\n",
    "    \"\"\"\n",
    "    Computes the loss and metric values for the dataset.\n",
    "    \"\"\"\n",
    "    loss = 0.0\n",
    "    metric = 0.0\n",
    "    len_data = len(dataset_dl.dataset)\n",
    "    \n",
    "    for X_b, y_b in dataset_dl:\n",
    "        X_b = X_b.type(torch.float).to(device)\n",
    "        y_b = y_b.to(device)\n",
    "        \n",
    "        # obtain model output\n",
    "        yb_p = model(X_b)\n",
    "        \n",
    "        # Batch\n",
    "        loss_b, metric_b = loss_batch(loss_func, X_b, y_b, yb_p, opt)\n",
    "        \n",
    "        loss += loss_b\n",
    "        if metric_b is not None:\n",
    "            metric += metric_b\n",
    "            \n",
    "    loss /= len_data\n",
    "    metric /= len_data\n",
    "    \n",
    "    return loss, metric"
   ]
  },
  {
   "cell_type": "code",
   "execution_count": 20,
   "metadata": {},
   "outputs": [],
   "source": [
    "def train_val(epochs, model, loss_func, opt, train_loader, val_loader):\n",
    "    for epoch in range(epochs):\n",
    "        model.train() # convert to train mode\n",
    "        train_loss, train_metric = loss_epoch(model, loss_func, train_loader, opt)\n",
    "        \n",
    "        model.eval() # convert to evaluation mode\n",
    "        \n",
    "        with torch.no_grad():\n",
    "            val_loss, val_metric = loss_epoch(model, loss_func, val_loader)\n",
    "            \n",
    "        accuracy = 100 * val_metric\n",
    "        print('epoch: %d, train loss: %.6f, val loss: %.6f, accuracy: %.2f' %(epoch+1, train_loss, val_loss, accuracy))"
   ]
  },
  {
   "cell_type": "code",
   "execution_count": 21,
   "metadata": {},
   "outputs": [
    {
     "name": "stdout",
     "output_type": "stream",
     "text": [
      "epoch: 0, train loss: 0.015318, val loss: 0.007766, accuracy: 98.05\n",
      "epoch: 1, train loss: 0.005515, val loss: 0.005647, accuracy: 98.47\n",
      "epoch: 2, train loss: 0.003497, val loss: 0.005704, accuracy: 98.62\n",
      "epoch: 3, train loss: 0.002705, val loss: 0.004982, accuracy: 98.92\n",
      "epoch: 4, train loss: 0.002039, val loss: 0.005466, accuracy: 98.83\n",
      "epoch: 5, train loss: 0.001651, val loss: 0.004762, accuracy: 99.02\n",
      "epoch: 6, train loss: 0.001166, val loss: 0.005571, accuracy: 98.97\n",
      "epoch: 7, train loss: 0.001300, val loss: 0.006687, accuracy: 98.72\n",
      "epoch: 8, train loss: 0.000975, val loss: 0.005612, accuracy: 98.92\n",
      "epoch: 9, train loss: 0.000742, val loss: 0.005964, accuracy: 98.95\n",
      "epoch: 10, train loss: 0.000813, val loss: 0.005354, accuracy: 99.06\n",
      "epoch: 11, train loss: 0.000671, val loss: 0.006743, accuracy: 99.08\n",
      "epoch: 12, train loss: 0.000678, val loss: 0.006537, accuracy: 99.02\n",
      "epoch: 13, train loss: 0.000637, val loss: 0.005918, accuracy: 99.24\n",
      "epoch: 14, train loss: 0.000476, val loss: 0.008768, accuracy: 98.98\n",
      "epoch: 15, train loss: 0.000536, val loss: 0.009560, accuracy: 99.11\n",
      "epoch: 16, train loss: 0.000525, val loss: 0.008671, accuracy: 99.04\n",
      "epoch: 17, train loss: 0.000501, val loss: 0.009129, accuracy: 98.94\n",
      "epoch: 18, train loss: 0.000525, val loss: 0.010361, accuracy: 98.93\n",
      "epoch: 19, train loss: 0.000521, val loss: 0.009883, accuracy: 99.00\n"
     ]
    }
   ],
   "source": [
    "train_val(epochs, model, criterion, optimizer, train_loader, val_loader)"
   ]
  },
  {
   "cell_type": "markdown",
   "metadata": {},
   "source": [
    "### 6. Inference"
   ]
  },
  {
   "cell_type": "code",
   "execution_count": 88,
   "metadata": {},
   "outputs": [],
   "source": [
    "X = X_val\n",
    "y = y_val"
   ]
  },
  {
   "cell_type": "code",
   "execution_count": 90,
   "metadata": {},
   "outputs": [
    {
     "data": {
      "text/plain": [
       "torch.Size([10000, 1, 28, 28])"
      ]
     },
     "execution_count": 90,
     "metadata": {},
     "output_type": "execute_result"
    }
   ],
   "source": [
    "X.shape"
   ]
  },
  {
   "cell_type": "code",
   "execution_count": 91,
   "metadata": {},
   "outputs": [
    {
     "data": {
      "text/plain": [
       "<matplotlib.image.AxesImage at 0x2913dbd3208>"
      ]
     },
     "execution_count": 91,
     "metadata": {},
     "output_type": "execute_result"
    },
    {
     "data": {
      "image/png": "[encoded data removed]",
      "text/plain": [
       "<Figure size 432x288 with 1 Axes>"
      ]
     },
     "metadata": {
      "needs_background": "light"
     },
     "output_type": "display_data"
    }
   ],
   "source": [
    "plt.imshow(X[0].numpy()[0],cmap='Greys_r')"
   ]
  },
  {
   "cell_type": "code",
   "execution_count": 92,
   "metadata": {},
   "outputs": [],
   "source": [
    "X = X.type(torch.float)"
   ]
  },
  {
   "cell_type": "code",
   "execution_count": 39,
   "metadata": {},
   "outputs": [],
   "source": [
    "X = X.to(device)"
   ]
  },
  {
   "cell_type": "code",
   "execution_count": 40,
   "metadata": {},
   "outputs": [
    {
     "data": {
      "text/plain": [
       "torch.Size([10000, 1, 28, 28])"
      ]
     },
     "execution_count": 40,
     "metadata": {},
     "output_type": "execute_result"
    }
   ],
   "source": [
    "X.shape"
   ]
  },
  {
   "cell_type": "code",
   "execution_count": 41,
   "metadata": {},
   "outputs": [],
   "source": [
    "pred = model(X)"
   ]
  },
  {
   "cell_type": "code",
   "execution_count": 44,
   "metadata": {},
   "outputs": [],
   "source": [
    "pred = pred.argmax(dim=1, keepdim=True)"
   ]
  },
  {
   "cell_type": "code",
   "execution_count": 76,
   "metadata": {},
   "outputs": [
    {
     "name": "stdout",
     "output_type": "stream",
     "text": [
      "Inference accuracy : 99.00 %\n"
     ]
    }
   ],
   "source": [
    "print('Inference accuracy : %.2f %%' %(accuracy_score(y.cpu(),pred.cpu())*100))"
   ]
  },
  {
   "cell_type": "code",
   "execution_count": 102,
   "metadata": {},
   "outputs": [
    {
     "data": {
      "text/plain": [
       "<matplotlib.image.AxesImage at 0x2914a4db708>"
      ]
     },
     "execution_count": 102,
     "metadata": {},
     "output_type": "execute_result"
    },
    {
     "data": {
      "image/png": "[encoded data removed]",
      "text/plain": [
       "<Figure size 432x288 with 1 Axes>"
      ]
     },
     "metadata": {
      "needs_background": "light"
     },
     "output_type": "display_data"
    }
   ],
   "source": [
    "plt.imshow(X[0].numpy()[0],cmap='Greys_r')"
   ]
  },
  {
   "cell_type": "code",
   "execution_count": 123,
   "metadata": {},
   "outputs": [
    {
     "name": "stdout",
     "output_type": "stream",
     "text": [
      "Label : 2 , Prediction :  2\n"
     ]
    },
    {
     "data": {
      "image/png": "[encoded data removed]",
      "text/plain": [
       "<Figure size 432x288 with 1 Axes>"
      ]
     },
     "metadata": {
      "needs_background": "light"
     },
     "output_type": "display_data"
    },
    {
     "name": "stdout",
     "output_type": "stream",
     "text": [
      "Label : 9 , Prediction :  9\n"
     ]
    },
    {
     "data": {
      "image/png": "[encoded data removed]",
      "text/plain": [
       "<Figure size 432x288 with 1 Axes>"
      ]
     },
     "metadata": {
      "needs_background": "light"
     },
     "output_type": "display_data"
    },
    {
     "name": "stdout",
     "output_type": "stream",
     "text": [
      "Label : 1 , Prediction :  1\n"
     ]
    },
    {
     "data": {
      "image/png": "[encoded data removed]",
      "text/plain": [
       "<Figure size 432x288 with 1 Axes>"
      ]
     },
     "metadata": {
      "needs_background": "light"
     },
     "output_type": "display_data"
    },
    {
     "name": "stdout",
     "output_type": "stream",
     "text": [
      "Label : 6 , Prediction :  6\n"
     ]
    },
    {
     "data": {
      "image/png": "[encoded data removed]",
      "text/plain": [
       "<Figure size 432x288 with 1 Axes>"
      ]
     },
     "metadata": {
      "needs_background": "light"
     },
     "output_type": "display_data"
    },
    {
     "name": "stdout",
     "output_type": "stream",
     "text": [
      "Label : 1 , Prediction :  1\n"
     ]
    },
    {
     "data": {
      "image/png": "[encoded data removed]",
      "text/plain": [
       "<Figure size 432x288 with 1 Axes>"
      ]
     },
     "metadata": {
      "needs_background": "light"
     },
     "output_type": "display_data"
    },
    {
     "name": "stdout",
     "output_type": "stream",
     "text": [
      "Label : 3 , Prediction :  3\n"
     ]
    },
    {
     "data": {
      "image/png": "[encoded data removed]",
      "text/plain": [
       "<Figure size 432x288 with 1 Axes>"
      ]
     },
     "metadata": {
      "needs_background": "light"
     },
     "output_type": "display_data"
    },
    {
     "name": "stdout",
     "output_type": "stream",
     "text": [
      "Label : 6 , Prediction :  6\n"
     ]
    },
    {
     "data": {
      "image/png": "[encoded data removed]",
      "text/plain": [
       "<Figure size 432x288 with 1 Axes>"
      ]
     },
     "metadata": {
      "needs_background": "light"
     },
     "output_type": "display_data"
    },
    {
     "name": "stdout",
     "output_type": "stream",
     "text": [
      "Label : 1 , Prediction :  1\n"
     ]
    },
    {
     "data": {
      "image/png": "[encoded data removed]",
      "text/plain": [
       "<Figure size 432x288 with 1 Axes>"
      ]
     },
     "metadata": {
      "needs_background": "light"
     },
     "output_type": "display_data"
    },
    {
     "name": "stdout",
     "output_type": "stream",
     "text": [
      "Label : 9 , Prediction :  9\n"
     ]
    },
    {
     "data": {
      "image/png": "[encoded data removed]",
      "text/plain": [
       "<Figure size 432x288 with 1 Axes>"
      ]
     },
     "metadata": {
      "needs_background": "light"
     },
     "output_type": "display_data"
    },
    {
     "name": "stdout",
     "output_type": "stream",
     "text": [
      "Label : 2 , Prediction :  2\n"
     ]
    },
    {
     "data": {
      "image/png": "[encoded data removed]",
      "text/plain": [
       "<Figure size 432x288 with 1 Axes>"
      ]
     },
     "metadata": {
      "needs_background": "light"
     },
     "output_type": "display_data"
    }
   ],
   "source": [
    "for x in range(10):\n",
    "    rand = random.randint(0,len(pred))\n",
    "    print('Label :',y[rand].numpy(),', Prediction : ',pred[rand].cpu().numpy()[0])\n",
    "    plt.figure()\n",
    "    plt.imshow(X[rand].numpy()[0], cmap='Greys_r')\n",
    "    plt.show()"
   ]
  },
  {
   "cell_type": "markdown",
   "metadata": {},
   "source": [
    "### 7. Save the model"
   ]
  },
  {
   "cell_type": "code",
   "execution_count": 125,
   "metadata": {},
   "outputs": [],
   "source": [
    "weights_path = './sav/'\n",
    "\n",
    "if not os.path.isdir(weights_path):\n",
    "    os.makedirs(weights_path)\n",
    "    \n",
    "torch.save(model.state_dict(), weights_path+'mnist.pt')\n"
   ]
  },
  {
   "cell_type": "code",
   "execution_count": null,
   "metadata": {},
   "outputs": [],
   "source": []
  }
 ],
 "metadata": {
  "kernelspec": {
   "display_name": "Python 3",
   "language": "python",
   "name": "python3"
  },
  "language_info": {
   "codemirror_mode": {
    "name": "ipython",
    "version": 3
   },
   "file_extension": ".py",
   "mimetype": "text/x-python",
   "name": "python",
   "nbconvert_exporter": "python",
   "pygments_lexer": "ipython3",
   "version": "3.7.8"
  }
 },
 "nbformat": 4,
 "nbformat_minor": 4
}
